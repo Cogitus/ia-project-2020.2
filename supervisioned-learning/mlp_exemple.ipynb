{
  "nbformat": 4,
  "nbformat_minor": 0,
  "metadata": {
    "colab": {
      "name": "mlp_exemple.ipynb",
      "provenance": [],
      "collapsed_sections": []
    },
    "kernelspec": {
      "name": "python3",
      "display_name": "Python 3"
    }
  },
  "cells": [
    {
      "cell_type": "code",
      "metadata": {
        "colab": {
          "base_uri": "https://localhost:8080/",
          "height": 215
        },
        "id": "KvWURI-Ho04B",
        "outputId": "40af013a-b986-4dd7-f6eb-a2695044457d"
      },
      "source": [
        "import pandas as pd\n",
        "\n",
        "#Referência da base de dados utlizada: https://sci2s.ugr.es/keel/dataset/data/classification/thyroid-names.txt\n",
        "\n",
        "dados = pd.read_csv('thyroid.csv')\n",
        "dados.head()"
      ],
      "execution_count": 1,
      "outputs": [
        {
          "output_type": "execute_result",
          "data": {
            "text/html": [
              "<div>\n",
              "<style scoped>\n",
              "    .dataframe tbody tr th:only-of-type {\n",
              "        vertical-align: middle;\n",
              "    }\n",
              "\n",
              "    .dataframe tbody tr th {\n",
              "        vertical-align: top;\n",
              "    }\n",
              "\n",
              "    .dataframe thead th {\n",
              "        text-align: right;\n",
              "    }\n",
              "</style>\n",
              "<table border=\"1\" class=\"dataframe\">\n",
              "  <thead>\n",
              "    <tr style=\"text-align: right;\">\n",
              "      <th></th>\n",
              "      <th>Age</th>\n",
              "      <th>Sex</th>\n",
              "      <th>On_thyroxine</th>\n",
              "      <th>Query_on_thyroxine</th>\n",
              "      <th>On_antithyroid_medication</th>\n",
              "      <th>Sick</th>\n",
              "      <th>Pregnant</th>\n",
              "      <th>Thyroid_surgery</th>\n",
              "      <th>I131_treatment</th>\n",
              "      <th>Query_hypothyroid</th>\n",
              "      <th>Query_hyperthyroid</th>\n",
              "      <th>Lithium</th>\n",
              "      <th>Goitre</th>\n",
              "      <th>Tumor</th>\n",
              "      <th>Hypopituitary</th>\n",
              "      <th>Psych</th>\n",
              "      <th>TSH</th>\n",
              "      <th>T3</th>\n",
              "      <th>TT4</th>\n",
              "      <th>T4U</th>\n",
              "      <th>FTI</th>\n",
              "      <th>Class</th>\n",
              "    </tr>\n",
              "  </thead>\n",
              "  <tbody>\n",
              "    <tr>\n",
              "      <th>0</th>\n",
              "      <td>0.73</td>\n",
              "      <td>0</td>\n",
              "      <td>1</td>\n",
              "      <td>0</td>\n",
              "      <td>0</td>\n",
              "      <td>0</td>\n",
              "      <td>0</td>\n",
              "      <td>0</td>\n",
              "      <td>1</td>\n",
              "      <td>0</td>\n",
              "      <td>0</td>\n",
              "      <td>0</td>\n",
              "      <td>0</td>\n",
              "      <td>0</td>\n",
              "      <td>0</td>\n",
              "      <td>0</td>\n",
              "      <td>0.00060</td>\n",
              "      <td>0.015</td>\n",
              "      <td>0.120</td>\n",
              "      <td>0.082</td>\n",
              "      <td>0.146</td>\n",
              "      <td>3</td>\n",
              "    </tr>\n",
              "    <tr>\n",
              "      <th>1</th>\n",
              "      <td>0.24</td>\n",
              "      <td>0</td>\n",
              "      <td>0</td>\n",
              "      <td>0</td>\n",
              "      <td>0</td>\n",
              "      <td>0</td>\n",
              "      <td>0</td>\n",
              "      <td>0</td>\n",
              "      <td>0</td>\n",
              "      <td>0</td>\n",
              "      <td>0</td>\n",
              "      <td>0</td>\n",
              "      <td>0</td>\n",
              "      <td>0</td>\n",
              "      <td>0</td>\n",
              "      <td>0</td>\n",
              "      <td>0.00025</td>\n",
              "      <td>0.030</td>\n",
              "      <td>0.143</td>\n",
              "      <td>0.133</td>\n",
              "      <td>0.108</td>\n",
              "      <td>3</td>\n",
              "    </tr>\n",
              "    <tr>\n",
              "      <th>2</th>\n",
              "      <td>0.47</td>\n",
              "      <td>0</td>\n",
              "      <td>0</td>\n",
              "      <td>0</td>\n",
              "      <td>0</td>\n",
              "      <td>0</td>\n",
              "      <td>0</td>\n",
              "      <td>0</td>\n",
              "      <td>0</td>\n",
              "      <td>0</td>\n",
              "      <td>0</td>\n",
              "      <td>0</td>\n",
              "      <td>0</td>\n",
              "      <td>0</td>\n",
              "      <td>0</td>\n",
              "      <td>0</td>\n",
              "      <td>0.00190</td>\n",
              "      <td>0.024</td>\n",
              "      <td>0.102</td>\n",
              "      <td>0.131</td>\n",
              "      <td>0.078</td>\n",
              "      <td>3</td>\n",
              "    </tr>\n",
              "    <tr>\n",
              "      <th>3</th>\n",
              "      <td>0.64</td>\n",
              "      <td>1</td>\n",
              "      <td>0</td>\n",
              "      <td>0</td>\n",
              "      <td>0</td>\n",
              "      <td>0</td>\n",
              "      <td>0</td>\n",
              "      <td>0</td>\n",
              "      <td>0</td>\n",
              "      <td>0</td>\n",
              "      <td>0</td>\n",
              "      <td>0</td>\n",
              "      <td>0</td>\n",
              "      <td>0</td>\n",
              "      <td>0</td>\n",
              "      <td>0</td>\n",
              "      <td>0.00090</td>\n",
              "      <td>0.017</td>\n",
              "      <td>0.077</td>\n",
              "      <td>0.090</td>\n",
              "      <td>0.085</td>\n",
              "      <td>3</td>\n",
              "    </tr>\n",
              "    <tr>\n",
              "      <th>4</th>\n",
              "      <td>0.23</td>\n",
              "      <td>0</td>\n",
              "      <td>0</td>\n",
              "      <td>0</td>\n",
              "      <td>0</td>\n",
              "      <td>0</td>\n",
              "      <td>0</td>\n",
              "      <td>0</td>\n",
              "      <td>0</td>\n",
              "      <td>0</td>\n",
              "      <td>0</td>\n",
              "      <td>0</td>\n",
              "      <td>0</td>\n",
              "      <td>0</td>\n",
              "      <td>0</td>\n",
              "      <td>0</td>\n",
              "      <td>0.00025</td>\n",
              "      <td>0.026</td>\n",
              "      <td>0.139</td>\n",
              "      <td>0.090</td>\n",
              "      <td>0.153</td>\n",
              "      <td>3</td>\n",
              "    </tr>\n",
              "  </tbody>\n",
              "</table>\n",
              "</div>"
            ],
            "text/plain": [
              "    Age   Sex   On_thyroxine   Query_on_thyroxine  ...    TT4    T4U    FTI   Class\n",
              "0  0.73     0              1                    0  ...  0.120  0.082  0.146       3\n",
              "1  0.24     0              0                    0  ...  0.143  0.133  0.108       3\n",
              "2  0.47     0              0                    0  ...  0.102  0.131  0.078       3\n",
              "3  0.64     1              0                    0  ...  0.077  0.090  0.085       3\n",
              "4  0.23     0              0                    0  ...  0.139  0.090  0.153       3\n",
              "\n",
              "[5 rows x 22 columns]"
            ]
          },
          "metadata": {
            "tags": []
          },
          "execution_count": 1
        }
      ]
    },
    {
      "cell_type": "code",
      "metadata": {
        "id": "apygNEBS0ezF"
      },
      "source": [
        "x = dados[['Age', ' Sex', ' On_thyroxine', ' Query_on_thyroxine',\n",
        "       ' On_antithyroid_medication', ' Sick', ' Pregnant', ' Thyroid_surgery',\n",
        "       ' I131_treatment', ' Query_hypothyroid', ' Query_hyperthyroid',\n",
        "       ' Lithium', ' Goitre', ' Tumor', ' Hypopituitary', ' Psych', ' TSH',\n",
        "       ' T3', ' TT4', ' T4U', ' FTI',]]"
      ],
      "execution_count": 2,
      "outputs": []
    },
    {
      "cell_type": "code",
      "metadata": {
        "colab": {
          "base_uri": "https://localhost:8080/",
          "height": 215
        },
        "id": "KCrwKZQ70gDt",
        "outputId": "b3dab061-b0da-4fa2-b309-f044fa97076e"
      },
      "source": [
        "x.head()"
      ],
      "execution_count": 3,
      "outputs": [
        {
          "output_type": "execute_result",
          "data": {
            "text/html": [
              "<div>\n",
              "<style scoped>\n",
              "    .dataframe tbody tr th:only-of-type {\n",
              "        vertical-align: middle;\n",
              "    }\n",
              "\n",
              "    .dataframe tbody tr th {\n",
              "        vertical-align: top;\n",
              "    }\n",
              "\n",
              "    .dataframe thead th {\n",
              "        text-align: right;\n",
              "    }\n",
              "</style>\n",
              "<table border=\"1\" class=\"dataframe\">\n",
              "  <thead>\n",
              "    <tr style=\"text-align: right;\">\n",
              "      <th></th>\n",
              "      <th>Age</th>\n",
              "      <th>Sex</th>\n",
              "      <th>On_thyroxine</th>\n",
              "      <th>Query_on_thyroxine</th>\n",
              "      <th>On_antithyroid_medication</th>\n",
              "      <th>Sick</th>\n",
              "      <th>Pregnant</th>\n",
              "      <th>Thyroid_surgery</th>\n",
              "      <th>I131_treatment</th>\n",
              "      <th>Query_hypothyroid</th>\n",
              "      <th>Query_hyperthyroid</th>\n",
              "      <th>Lithium</th>\n",
              "      <th>Goitre</th>\n",
              "      <th>Tumor</th>\n",
              "      <th>Hypopituitary</th>\n",
              "      <th>Psych</th>\n",
              "      <th>TSH</th>\n",
              "      <th>T3</th>\n",
              "      <th>TT4</th>\n",
              "      <th>T4U</th>\n",
              "      <th>FTI</th>\n",
              "    </tr>\n",
              "  </thead>\n",
              "  <tbody>\n",
              "    <tr>\n",
              "      <th>0</th>\n",
              "      <td>0.73</td>\n",
              "      <td>0</td>\n",
              "      <td>1</td>\n",
              "      <td>0</td>\n",
              "      <td>0</td>\n",
              "      <td>0</td>\n",
              "      <td>0</td>\n",
              "      <td>0</td>\n",
              "      <td>1</td>\n",
              "      <td>0</td>\n",
              "      <td>0</td>\n",
              "      <td>0</td>\n",
              "      <td>0</td>\n",
              "      <td>0</td>\n",
              "      <td>0</td>\n",
              "      <td>0</td>\n",
              "      <td>0.00060</td>\n",
              "      <td>0.015</td>\n",
              "      <td>0.120</td>\n",
              "      <td>0.082</td>\n",
              "      <td>0.146</td>\n",
              "    </tr>\n",
              "    <tr>\n",
              "      <th>1</th>\n",
              "      <td>0.24</td>\n",
              "      <td>0</td>\n",
              "      <td>0</td>\n",
              "      <td>0</td>\n",
              "      <td>0</td>\n",
              "      <td>0</td>\n",
              "      <td>0</td>\n",
              "      <td>0</td>\n",
              "      <td>0</td>\n",
              "      <td>0</td>\n",
              "      <td>0</td>\n",
              "      <td>0</td>\n",
              "      <td>0</td>\n",
              "      <td>0</td>\n",
              "      <td>0</td>\n",
              "      <td>0</td>\n",
              "      <td>0.00025</td>\n",
              "      <td>0.030</td>\n",
              "      <td>0.143</td>\n",
              "      <td>0.133</td>\n",
              "      <td>0.108</td>\n",
              "    </tr>\n",
              "    <tr>\n",
              "      <th>2</th>\n",
              "      <td>0.47</td>\n",
              "      <td>0</td>\n",
              "      <td>0</td>\n",
              "      <td>0</td>\n",
              "      <td>0</td>\n",
              "      <td>0</td>\n",
              "      <td>0</td>\n",
              "      <td>0</td>\n",
              "      <td>0</td>\n",
              "      <td>0</td>\n",
              "      <td>0</td>\n",
              "      <td>0</td>\n",
              "      <td>0</td>\n",
              "      <td>0</td>\n",
              "      <td>0</td>\n",
              "      <td>0</td>\n",
              "      <td>0.00190</td>\n",
              "      <td>0.024</td>\n",
              "      <td>0.102</td>\n",
              "      <td>0.131</td>\n",
              "      <td>0.078</td>\n",
              "    </tr>\n",
              "    <tr>\n",
              "      <th>3</th>\n",
              "      <td>0.64</td>\n",
              "      <td>1</td>\n",
              "      <td>0</td>\n",
              "      <td>0</td>\n",
              "      <td>0</td>\n",
              "      <td>0</td>\n",
              "      <td>0</td>\n",
              "      <td>0</td>\n",
              "      <td>0</td>\n",
              "      <td>0</td>\n",
              "      <td>0</td>\n",
              "      <td>0</td>\n",
              "      <td>0</td>\n",
              "      <td>0</td>\n",
              "      <td>0</td>\n",
              "      <td>0</td>\n",
              "      <td>0.00090</td>\n",
              "      <td>0.017</td>\n",
              "      <td>0.077</td>\n",
              "      <td>0.090</td>\n",
              "      <td>0.085</td>\n",
              "    </tr>\n",
              "    <tr>\n",
              "      <th>4</th>\n",
              "      <td>0.23</td>\n",
              "      <td>0</td>\n",
              "      <td>0</td>\n",
              "      <td>0</td>\n",
              "      <td>0</td>\n",
              "      <td>0</td>\n",
              "      <td>0</td>\n",
              "      <td>0</td>\n",
              "      <td>0</td>\n",
              "      <td>0</td>\n",
              "      <td>0</td>\n",
              "      <td>0</td>\n",
              "      <td>0</td>\n",
              "      <td>0</td>\n",
              "      <td>0</td>\n",
              "      <td>0</td>\n",
              "      <td>0.00025</td>\n",
              "      <td>0.026</td>\n",
              "      <td>0.139</td>\n",
              "      <td>0.090</td>\n",
              "      <td>0.153</td>\n",
              "    </tr>\n",
              "  </tbody>\n",
              "</table>\n",
              "</div>"
            ],
            "text/plain": [
              "    Age   Sex   On_thyroxine   Query_on_thyroxine  ...     T3    TT4    T4U    FTI\n",
              "0  0.73     0              1                    0  ...  0.015  0.120  0.082  0.146\n",
              "1  0.24     0              0                    0  ...  0.030  0.143  0.133  0.108\n",
              "2  0.47     0              0                    0  ...  0.024  0.102  0.131  0.078\n",
              "3  0.64     1              0                    0  ...  0.017  0.077  0.090  0.085\n",
              "4  0.23     0              0                    0  ...  0.026  0.139  0.090  0.153\n",
              "\n",
              "[5 rows x 21 columns]"
            ]
          },
          "metadata": {
            "tags": []
          },
          "execution_count": 3
        }
      ]
    },
    {
      "cell_type": "code",
      "metadata": {
        "id": "YqSgI9Sr0yB7"
      },
      "source": [
        "y = dados[' Class']"
      ],
      "execution_count": 4,
      "outputs": []
    },
    {
      "cell_type": "code",
      "metadata": {
        "colab": {
          "base_uri": "https://localhost:8080/"
        },
        "id": "_36hCpm403Iw",
        "outputId": "ad88c203-6f33-4647-fb3f-691b1cbd9145"
      },
      "source": [
        "y.head()"
      ],
      "execution_count": 5,
      "outputs": [
        {
          "output_type": "execute_result",
          "data": {
            "text/plain": [
              "0    3\n",
              "1    3\n",
              "2    3\n",
              "3    3\n",
              "4    3\n",
              "Name:  Class, dtype: int64"
            ]
          },
          "metadata": {
            "tags": []
          },
          "execution_count": 5
        }
      ]
    },
    {
      "cell_type": "code",
      "metadata": {
        "colab": {
          "base_uri": "https://localhost:8080/"
        },
        "id": "hmbRRSxDpOJw",
        "outputId": "06067666-d374-42f6-b7e9-fddd10c7a8da"
      },
      "source": [
        "import numpy as np\n",
        "from sklearn.model_selection import train_test_split\n",
        "from sklearn.preprocessing import StandardScaler\n",
        "\n",
        "SEED = 5\n",
        "np.random.seed(SEED)\n",
        "raw_treino_x, raw_teste_x, treino_y, teste_y = train_test_split(x, y, test_size = 0.25, stratify = y)\n",
        "\n",
        "scaler = StandardScaler()\n",
        "treino_x = scaler.fit_transform(raw_treino_x)\n",
        "teste_x = scaler.fit_transform(raw_teste_x)\n",
        "\n",
        "print(f'Treinaremos com {len(treino_x)} elementos e testaremos com {len(teste_x)} elementos')"
      ],
      "execution_count": 6,
      "outputs": [
        {
          "output_type": "stream",
          "text": [
            "Treinaremos com 5400 elementos e testaremos com 1800 elementos\n"
          ],
          "name": "stdout"
        }
      ]
    },
    {
      "cell_type": "code",
      "metadata": {
        "id": "_NK-g4ebpb3B"
      },
      "source": [
        "from keras.models import Sequential\n",
        "from keras.layers import Dense\n",
        "from keras.utils import to_categorical\n",
        "\n",
        "modelo = Sequential()"
      ],
      "execution_count": 7,
      "outputs": []
    },
    {
      "cell_type": "code",
      "metadata": {
        "id": "XipcLReFph88"
      },
      "source": [
        "modelo.add(Dense(activation='relu', input_dim=len(x.columns), units=50))\n",
        "modelo.add(Dense(activation='relu', units=10))\n",
        "modelo.add(Dense(activation='relu', units=8))\n",
        "modelo.add(Dense(activation='softmax', units=4))"
      ],
      "execution_count": 8,
      "outputs": []
    },
    {
      "cell_type": "code",
      "metadata": {
        "id": "LZ7O1HUMpkGk"
      },
      "source": [
        "modelo.compile(optimizer='adam', loss='categorical_crossentropy', metrics=['accuracy'])"
      ],
      "execution_count": 9,
      "outputs": []
    },
    {
      "cell_type": "code",
      "metadata": {
        "id": "Z0O_WOcpjK0_"
      },
      "source": [
        "modelo.save('mlp_model_exemple.h5')"
      ],
      "execution_count": 10,
      "outputs": []
    },
    {
      "cell_type": "code",
      "metadata": {
        "colab": {
          "base_uri": "https://localhost:8080/"
        },
        "id": "rHrenDjDrckQ",
        "outputId": "9b7d5fb8-5e18-4a05-ed0b-86a864361190"
      },
      "source": [
        "!pip3 install keras-visualizer"
      ],
      "execution_count": 19,
      "outputs": [
        {
          "output_type": "stream",
          "text": [
            "Requirement already satisfied: keras-visualizer in /usr/local/lib/python3.7/dist-packages (2.4)\n"
          ],
          "name": "stdout"
        }
      ]
    },
    {
      "cell_type": "code",
      "metadata": {
        "id": "tg3lUZTariYB"
      },
      "source": [
        "from keras_visualizer import visualizer\n",
        "\n",
        "visualizer(modelo, format='png', view=True)"
      ],
      "execution_count": 22,
      "outputs": []
    },
    {
      "cell_type": "code",
      "metadata": {
        "colab": {
          "base_uri": "https://localhost:8080/"
        },
        "id": "fwa4ToQyKckn",
        "outputId": "c26c41c3-2889-4de3-80d1-26a3364e5faf"
      },
      "source": [
        "from sklearn.dummy import DummyClassifier\n",
        "from sklearn.metrics import accuracy_score\n",
        "\n",
        "dummy = DummyClassifier()\n",
        "dummy.fit(treino_x, treino_y)\n",
        "previsoes_dummy = dummy.predict(teste_x)\n",
        "acuracia = accuracy_score(teste_y, previsoes_dummy)\n",
        "print(f'Taxa de acerto para o dummy classifier ou baseline foi {acuracia * 100:.2f}%')"
      ],
      "execution_count": 11,
      "outputs": [
        {
          "output_type": "stream",
          "text": [
            "Taxa de acerto para o dummy classifier ou baseline foi 85.89%\n"
          ],
          "name": "stdout"
        },
        {
          "output_type": "stream",
          "text": [
            "/usr/local/lib/python3.7/dist-packages/sklearn/dummy.py:132: FutureWarning: The default value of strategy will change from stratified to prior in 0.24.\n",
            "  \"stratified to prior in 0.24.\", FutureWarning)\n"
          ],
          "name": "stderr"
        }
      ]
    },
    {
      "cell_type": "code",
      "metadata": {
        "colab": {
          "base_uri": "https://localhost:8080/"
        },
        "id": "0RkEO5V7pVa_",
        "outputId": "0ca7f75f-4bce-497e-f6d1-24e8215bd3b0"
      },
      "source": [
        "history = modelo.fit(treino_x, to_categorical(treino_y), \n",
        "                     epochs=30, validation_data=(teste_x, to_categorical(teste_y)))\n",
        "previsoes = modelo.predict(teste_x)"
      ],
      "execution_count": 12,
      "outputs": [
        {
          "output_type": "stream",
          "text": [
            "Epoch 1/30\n",
            "169/169 [==============================] - 1s 4ms/step - loss: 0.8848 - accuracy: 0.7767 - val_loss: 0.2623 - val_accuracy: 0.9400\n",
            "Epoch 2/30\n",
            "169/169 [==============================] - 0s 2ms/step - loss: 0.2353 - accuracy: 0.9375 - val_loss: 0.1860 - val_accuracy: 0.9406\n",
            "Epoch 3/30\n",
            "169/169 [==============================] - 0s 2ms/step - loss: 0.1720 - accuracy: 0.9429 - val_loss: 0.1586 - val_accuracy: 0.9456\n",
            "Epoch 4/30\n",
            "169/169 [==============================] - 0s 2ms/step - loss: 0.1342 - accuracy: 0.9537 - val_loss: 0.1405 - val_accuracy: 0.9517\n",
            "Epoch 5/30\n",
            "169/169 [==============================] - 0s 2ms/step - loss: 0.1044 - accuracy: 0.9617 - val_loss: 0.1219 - val_accuracy: 0.9628\n",
            "Epoch 6/30\n",
            "169/169 [==============================] - 0s 2ms/step - loss: 0.0852 - accuracy: 0.9715 - val_loss: 0.1081 - val_accuracy: 0.9633\n",
            "Epoch 7/30\n",
            "169/169 [==============================] - 0s 2ms/step - loss: 0.0692 - accuracy: 0.9767 - val_loss: 0.0998 - val_accuracy: 0.9689\n",
            "Epoch 8/30\n",
            "169/169 [==============================] - 0s 2ms/step - loss: 0.0681 - accuracy: 0.9766 - val_loss: 0.0964 - val_accuracy: 0.9672\n",
            "Epoch 9/30\n",
            "169/169 [==============================] - 0s 2ms/step - loss: 0.0538 - accuracy: 0.9833 - val_loss: 0.0871 - val_accuracy: 0.9767\n",
            "Epoch 10/30\n",
            "169/169 [==============================] - 0s 2ms/step - loss: 0.0476 - accuracy: 0.9879 - val_loss: 0.0869 - val_accuracy: 0.9739\n",
            "Epoch 11/30\n",
            "169/169 [==============================] - 0s 2ms/step - loss: 0.0399 - accuracy: 0.9900 - val_loss: 0.0875 - val_accuracy: 0.9717\n",
            "Epoch 12/30\n",
            "169/169 [==============================] - 0s 2ms/step - loss: 0.0387 - accuracy: 0.9888 - val_loss: 0.0791 - val_accuracy: 0.9756\n",
            "Epoch 13/30\n",
            "169/169 [==============================] - 0s 2ms/step - loss: 0.0312 - accuracy: 0.9915 - val_loss: 0.0829 - val_accuracy: 0.9750\n",
            "Epoch 14/30\n",
            "169/169 [==============================] - 0s 2ms/step - loss: 0.0308 - accuracy: 0.9912 - val_loss: 0.0794 - val_accuracy: 0.9783\n",
            "Epoch 15/30\n",
            "169/169 [==============================] - 0s 2ms/step - loss: 0.0267 - accuracy: 0.9917 - val_loss: 0.0764 - val_accuracy: 0.9783\n",
            "Epoch 16/30\n",
            "169/169 [==============================] - 0s 2ms/step - loss: 0.0272 - accuracy: 0.9915 - val_loss: 0.0803 - val_accuracy: 0.9767\n",
            "Epoch 17/30\n",
            "169/169 [==============================] - 0s 2ms/step - loss: 0.0234 - accuracy: 0.9928 - val_loss: 0.0758 - val_accuracy: 0.9794\n",
            "Epoch 18/30\n",
            "169/169 [==============================] - 0s 2ms/step - loss: 0.0225 - accuracy: 0.9931 - val_loss: 0.0848 - val_accuracy: 0.9739\n",
            "Epoch 19/30\n",
            "169/169 [==============================] - 0s 2ms/step - loss: 0.0228 - accuracy: 0.9921 - val_loss: 0.0779 - val_accuracy: 0.9789\n",
            "Epoch 20/30\n",
            "169/169 [==============================] - 0s 2ms/step - loss: 0.0203 - accuracy: 0.9937 - val_loss: 0.0868 - val_accuracy: 0.9756\n",
            "Epoch 21/30\n",
            "169/169 [==============================] - 0s 2ms/step - loss: 0.0171 - accuracy: 0.9950 - val_loss: 0.0732 - val_accuracy: 0.9783\n",
            "Epoch 22/30\n",
            "169/169 [==============================] - 0s 2ms/step - loss: 0.0176 - accuracy: 0.9957 - val_loss: 0.0757 - val_accuracy: 0.9811\n",
            "Epoch 23/30\n",
            "169/169 [==============================] - 0s 2ms/step - loss: 0.0187 - accuracy: 0.9948 - val_loss: 0.0770 - val_accuracy: 0.9783\n",
            "Epoch 24/30\n",
            "169/169 [==============================] - 0s 2ms/step - loss: 0.0168 - accuracy: 0.9949 - val_loss: 0.0727 - val_accuracy: 0.9811\n",
            "Epoch 25/30\n",
            "169/169 [==============================] - 0s 2ms/step - loss: 0.0198 - accuracy: 0.9944 - val_loss: 0.0757 - val_accuracy: 0.9811\n",
            "Epoch 26/30\n",
            "169/169 [==============================] - 0s 2ms/step - loss: 0.0183 - accuracy: 0.9945 - val_loss: 0.0797 - val_accuracy: 0.9789\n",
            "Epoch 27/30\n",
            "169/169 [==============================] - 0s 2ms/step - loss: 0.0132 - accuracy: 0.9964 - val_loss: 0.0747 - val_accuracy: 0.9811\n",
            "Epoch 28/30\n",
            "169/169 [==============================] - 0s 2ms/step - loss: 0.0134 - accuracy: 0.9963 - val_loss: 0.0797 - val_accuracy: 0.9783\n",
            "Epoch 29/30\n",
            "169/169 [==============================] - 0s 2ms/step - loss: 0.0145 - accuracy: 0.9966 - val_loss: 0.0739 - val_accuracy: 0.9800\n",
            "Epoch 30/30\n",
            "169/169 [==============================] - 0s 2ms/step - loss: 0.0105 - accuracy: 0.9970 - val_loss: 0.0741 - val_accuracy: 0.9822\n"
          ],
          "name": "stdout"
        }
      ]
    },
    {
      "cell_type": "code",
      "metadata": {
        "colab": {
          "base_uri": "https://localhost:8080/",
          "height": 295
        },
        "id": "a_zNj4Y_q05u",
        "outputId": "0272c973-c1c8-4d2f-e5f3-13e0afe8a59c"
      },
      "source": [
        "import matplotlib.pyplot as plt\n",
        "loss = history.history['loss']\n",
        "val_loss = history.history['val_loss']\n",
        "epochs = range(1, len(loss) + 1)\n",
        "plt.plot(epochs, loss, color='blue', label='Training loss')\n",
        "plt.plot(epochs, val_loss, color='orange', label='Validation loss')\n",
        "plt.title('Loss de Treinamento e Validação')\n",
        "plt.xlabel('Epochs')\n",
        "plt.ylabel('Loss')\n",
        "plt.legend()\n",
        "plt.savefig('mlp_loss_vs_epochs')\n",
        "plt.show()"
      ],
      "execution_count": 13,
      "outputs": [
        {
          "output_type": "display_data",
          "data": {
            "image/png": "[encoded data removed]",
            "text/plain": [
              "<Figure size 432x288 with 1 Axes>"
            ]
          },
          "metadata": {
            "tags": [],
            "needs_background": "light"
          }
        }
      ]
    },
    {
      "cell_type": "code",
      "metadata": {
        "colab": {
          "base_uri": "https://localhost:8080/",
          "height": 295
        },
        "id": "5eTvmaY5tL0t",
        "outputId": "ebe28240-9a1b-4614-a8f6-130e5b18015b"
      },
      "source": [
        "accuracy = history.history['accuracy']\n",
        "val_accuracy = history.history['val_accuracy']\n",
        "plt.plot(epochs, accuracy, color='blue', label='Training accuracy')\n",
        "plt.plot(epochs, val_accuracy, color='orange', label='Validation accuracy')\n",
        "plt.title('Acurácia de Treinamento e Validação')\n",
        "plt.xlabel('Epochs')\n",
        "plt.ylabel('Accuracy')\n",
        "plt.legend()\n",
        "plt.savefig('mlp_accuracy_vs_epochs')\n",
        "plt.show()"
      ],
      "execution_count": 14,
      "outputs": [
        {
          "output_type": "display_data",
          "data": {
            "image/png": "[encoded data removed]",
            "text/plain": [
              "<Figure size 432x288 with 1 Axes>"
            ]
          },
          "metadata": {
            "tags": [],
            "needs_background": "light"
          }
        }
      ]
    },
    {
      "cell_type": "code",
      "metadata": {
        "colab": {
          "base_uri": "https://localhost:8080/"
        },
        "id": "DiFp6AKmrvCq",
        "outputId": "66cdc5aa-d0cb-4349-da28-6e1cf8a9bb2a"
      },
      "source": [
        "from sklearn.metrics import classification_report\n",
        "\n",
        "# normal (1) or suffers from hyperthyroidism (2) or hypothyroidism (3)\n",
        "\n",
        "previsoes_argmax = np.argmax(previsoes, axis=1)\n",
        "print(classification_report(teste_y, previsoes_argmax, target_names=[\"normal\", 'hyperthyroidism', 'hypothyroidism']))"
      ],
      "execution_count": 15,
      "outputs": [
        {
          "output_type": "stream",
          "text": [
            "                 precision    recall  f1-score   support\n",
            "\n",
            "         normal       0.85      0.80      0.83        41\n",
            "hyperthyroidism       0.91      0.86      0.88        92\n",
            " hypothyroidism       0.99      0.99      0.99      1667\n",
            "\n",
            "       accuracy                           0.98      1800\n",
            "      macro avg       0.91      0.89      0.90      1800\n",
            "   weighted avg       0.98      0.98      0.98      1800\n",
            "\n"
          ],
          "name": "stdout"
        }
      ]
    },
    {
      "cell_type": "code",
      "metadata": {
        "colab": {
          "base_uri": "https://localhost:8080/"
        },
        "id": "dwcy-SrKqrY-",
        "outputId": "844c6c0b-54ef-4426-95fe-2db3bf8e3053"
      },
      "source": [
        "from sklearn.metrics import accuracy_score\n",
        "\n",
        "\n",
        "previsoes_argmax = np.argmax(previsoes, axis=1)\n",
        "acuracia = accuracy_score(teste_y, previsoes_argmax) * 100\n",
        "print(f'A acurácia foi {acuracia:.2f}%')"
      ],
      "execution_count": 16,
      "outputs": [
        {
          "output_type": "stream",
          "text": [
            "A acurácia foi 98.22%\n"
          ],
          "name": "stdout"
        }
      ]
    },
    {
      "cell_type": "code",
      "metadata": {
        "colab": {
          "base_uri": "https://localhost:8080/",
          "height": 298
        },
        "id": "gjSUMLPC0QcN",
        "outputId": "59e00e66-084d-454f-eec0-da7c86dfd8be"
      },
      "source": [
        "from sklearn.metrics import confusion_matrix\n",
        "import seaborn as sns\n",
        "\n",
        "previsoes_argmax = np.argmax(previsoes, axis=1)\n",
        "matriz_confusao = confusion_matrix(teste_y, previsoes_argmax)\n",
        "print('Matriz de confusão')\n",
        "sns.heatmap(matriz_confusao, annot=True)"
      ],
      "execution_count": 17,
      "outputs": [
        {
          "output_type": "stream",
          "text": [
            "Matriz de confusão\n"
          ],
          "name": "stdout"
        },
        {
          "output_type": "execute_result",
          "data": {
            "text/plain": [
              "<matplotlib.axes._subplots.AxesSubplot at 0x7f327fee70d0>"
            ]
          },
          "metadata": {
            "tags": []
          },
          "execution_count": 17
        },
        {
          "output_type": "display_data",
          "data": {
            "image/png": "[encoded data removed]",
            "text/plain": [
              "<Figure size 432x288 with 2 Axes>"
            ]
          },
          "metadata": {
            "tags": [],
            "needs_background": "light"
          }
        }
      ]
    },
    {
      "cell_type": "code",
      "metadata": {
        "colab": {
          "base_uri": "https://localhost:8080/"
        },
        "id": "aQLz5GWp42w-",
        "outputId": "1994f530-93ac-42a3-9596-330b7ee26646"
      },
      "source": [
        "acuracia = ((matriz_confusao[0,0] + matriz_confusao[1,1] + matriz_confusao[2, 2]) / len(teste_y)) * 100\n",
        "print(f'A acurácia foi {acuracia:.2f}%')"
      ],
      "execution_count": 18,
      "outputs": [
        {
          "output_type": "stream",
          "text": [
            "A acurácia foi 98.22%\n"
          ],
          "name": "stdout"
        }
      ]
    }
  ]
}