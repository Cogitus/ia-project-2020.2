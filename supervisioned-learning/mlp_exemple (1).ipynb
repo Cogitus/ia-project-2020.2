{
  "nbformat": 4,
  "nbformat_minor": 0,
  "metadata": {
    "colab": {
      "name": "mlp_exemple.ipynb",
      "provenance": [],
      "collapsed_sections": []
    },
    "kernelspec": {
      "name": "python3",
      "display_name": "Python 3"
    }
  },
  "cells": [
    {
      "cell_type": "code",
      "metadata": {
        "colab": {
          "base_uri": "https://localhost:8080/",
          "height": 215
        },
        "id": "KvWURI-Ho04B",
        "outputId": "424a400d-c37c-4ecd-e5b4-43004b964f34"
      },
      "source": [
        "import pandas as pd\n",
        "\n",
        "#Referência da base de dados utlizada: https://sci2s.ugr.es/keel/dataset/data/classification/thyroid-names.txt\n",
        "\n",
        "dados = pd.read_csv('thyroid.csv')\n",
        "dados.head()"
      ],
      "execution_count": 1,
      "outputs": [
        {
          "output_type": "execute_result",
          "data": {
            "text/html": [
              "<div>\n",
              "<style scoped>\n",
              "    .dataframe tbody tr th:only-of-type {\n",
              "        vertical-align: middle;\n",
              "    }\n",
              "\n",
              "    .dataframe tbody tr th {\n",
              "        vertical-align: top;\n",
              "    }\n",
              "\n",
              "    .dataframe thead th {\n",
              "        text-align: right;\n",
              "    }\n",
              "</style>\n",
              "<table border=\"1\" class=\"dataframe\">\n",
              "  <thead>\n",
              "    <tr style=\"text-align: right;\">\n",
              "      <th></th>\n",
              "      <th>Age</th>\n",
              "      <th>Sex</th>\n",
              "      <th>On_thyroxine</th>\n",
              "      <th>Query_on_thyroxine</th>\n",
              "      <th>On_antithyroid_medication</th>\n",
              "      <th>Sick</th>\n",
              "      <th>Pregnant</th>\n",
              "      <th>Thyroid_surgery</th>\n",
              "      <th>I131_treatment</th>\n",
              "      <th>Query_hypothyroid</th>\n",
              "      <th>Query_hyperthyroid</th>\n",
              "      <th>Lithium</th>\n",
              "      <th>Goitre</th>\n",
              "      <th>Tumor</th>\n",
              "      <th>Hypopituitary</th>\n",
              "      <th>Psych</th>\n",
              "      <th>TSH</th>\n",
              "      <th>T3</th>\n",
              "      <th>TT4</th>\n",
              "      <th>T4U</th>\n",
              "      <th>FTI</th>\n",
              "      <th>Class</th>\n",
              "    </tr>\n",
              "  </thead>\n",
              "  <tbody>\n",
              "    <tr>\n",
              "      <th>0</th>\n",
              "      <td>0.73</td>\n",
              "      <td>0</td>\n",
              "      <td>1</td>\n",
              "      <td>0</td>\n",
              "      <td>0</td>\n",
              "      <td>0</td>\n",
              "      <td>0</td>\n",
              "      <td>0</td>\n",
              "      <td>1</td>\n",
              "      <td>0</td>\n",
              "      <td>0</td>\n",
              "      <td>0</td>\n",
              "      <td>0</td>\n",
              "      <td>0</td>\n",
              "      <td>0</td>\n",
              "      <td>0</td>\n",
              "      <td>0.00060</td>\n",
              "      <td>0.015</td>\n",
              "      <td>0.120</td>\n",
              "      <td>0.082</td>\n",
              "      <td>0.146</td>\n",
              "      <td>3</td>\n",
              "    </tr>\n",
              "    <tr>\n",
              "      <th>1</th>\n",
              "      <td>0.24</td>\n",
              "      <td>0</td>\n",
              "      <td>0</td>\n",
              "      <td>0</td>\n",
              "      <td>0</td>\n",
              "      <td>0</td>\n",
              "      <td>0</td>\n",
              "      <td>0</td>\n",
              "      <td>0</td>\n",
              "      <td>0</td>\n",
              "      <td>0</td>\n",
              "      <td>0</td>\n",
              "      <td>0</td>\n",
              "      <td>0</td>\n",
              "      <td>0</td>\n",
              "      <td>0</td>\n",
              "      <td>0.00025</td>\n",
              "      <td>0.030</td>\n",
              "      <td>0.143</td>\n",
              "      <td>0.133</td>\n",
              "      <td>0.108</td>\n",
              "      <td>3</td>\n",
              "    </tr>\n",
              "    <tr>\n",
              "      <th>2</th>\n",
              "      <td>0.47</td>\n",
              "      <td>0</td>\n",
              "      <td>0</td>\n",
              "      <td>0</td>\n",
              "      <td>0</td>\n",
              "      <td>0</td>\n",
              "      <td>0</td>\n",
              "      <td>0</td>\n",
              "      <td>0</td>\n",
              "      <td>0</td>\n",
              "      <td>0</td>\n",
              "      <td>0</td>\n",
              "      <td>0</td>\n",
              "      <td>0</td>\n",
              "      <td>0</td>\n",
              "      <td>0</td>\n",
              "      <td>0.00190</td>\n",
              "      <td>0.024</td>\n",
              "      <td>0.102</td>\n",
              "      <td>0.131</td>\n",
              "      <td>0.078</td>\n",
              "      <td>3</td>\n",
              "    </tr>\n",
              "    <tr>\n",
              "      <th>3</th>\n",
              "      <td>0.64</td>\n",
              "      <td>1</td>\n",
              "      <td>0</td>\n",
              "      <td>0</td>\n",
              "      <td>0</td>\n",
              "      <td>0</td>\n",
              "      <td>0</td>\n",
              "      <td>0</td>\n",
              "      <td>0</td>\n",
              "      <td>0</td>\n",
              "      <td>0</td>\n",
              "      <td>0</td>\n",
              "      <td>0</td>\n",
              "      <td>0</td>\n",
              "      <td>0</td>\n",
              "      <td>0</td>\n",
              "      <td>0.00090</td>\n",
              "      <td>0.017</td>\n",
              "      <td>0.077</td>\n",
              "      <td>0.090</td>\n",
              "      <td>0.085</td>\n",
              "      <td>3</td>\n",
              "    </tr>\n",
              "    <tr>\n",
              "      <th>4</th>\n",
              "      <td>0.23</td>\n",
              "      <td>0</td>\n",
              "      <td>0</td>\n",
              "      <td>0</td>\n",
              "      <td>0</td>\n",
              "      <td>0</td>\n",
              "      <td>0</td>\n",
              "      <td>0</td>\n",
              "      <td>0</td>\n",
              "      <td>0</td>\n",
              "      <td>0</td>\n",
              "      <td>0</td>\n",
              "      <td>0</td>\n",
              "      <td>0</td>\n",
              "      <td>0</td>\n",
              "      <td>0</td>\n",
              "      <td>0.00025</td>\n",
              "      <td>0.026</td>\n",
              "      <td>0.139</td>\n",
              "      <td>0.090</td>\n",
              "      <td>0.153</td>\n",
              "      <td>3</td>\n",
              "    </tr>\n",
              "  </tbody>\n",
              "</table>\n",
              "</div>"
            ],
            "text/plain": [
              "    Age   Sex   On_thyroxine   Query_on_thyroxine  ...    TT4    T4U    FTI   Class\n",
              "0  0.73     0              1                    0  ...  0.120  0.082  0.146       3\n",
              "1  0.24     0              0                    0  ...  0.143  0.133  0.108       3\n",
              "2  0.47     0              0                    0  ...  0.102  0.131  0.078       3\n",
              "3  0.64     1              0                    0  ...  0.077  0.090  0.085       3\n",
              "4  0.23     0              0                    0  ...  0.139  0.090  0.153       3\n",
              "\n",
              "[5 rows x 22 columns]"
            ]
          },
          "metadata": {
            "tags": []
          },
          "execution_count": 1
        }
      ]
    },
    {
      "cell_type": "code",
      "metadata": {
        "id": "apygNEBS0ezF"
      },
      "source": [
        "x = dados[['Age', ' Sex', ' On_thyroxine', ' Query_on_thyroxine',\n",
        "       ' On_antithyroid_medication', ' Sick', ' Pregnant', ' Thyroid_surgery',\n",
        "       ' I131_treatment', ' Query_hypothyroid', ' Query_hyperthyroid',\n",
        "       ' Lithium', ' Goitre', ' Tumor', ' Hypopituitary', ' Psych', ' TSH',\n",
        "       ' T3', ' TT4', ' T4U', ' FTI',]]"
      ],
      "execution_count": 2,
      "outputs": []
    },
    {
      "cell_type": "code",
      "metadata": {
        "colab": {
          "base_uri": "https://localhost:8080/",
          "height": 215
        },
        "id": "KCrwKZQ70gDt",
        "outputId": "6bc26d30-49f9-4b38-857d-e7c64b410f9d"
      },
      "source": [
        "x.head()"
      ],
      "execution_count": 3,
      "outputs": [
        {
          "output_type": "execute_result",
          "data": {
            "text/html": [
              "<div>\n",
              "<style scoped>\n",
              "    .dataframe tbody tr th:only-of-type {\n",
              "        vertical-align: middle;\n",
              "    }\n",
              "\n",
              "    .dataframe tbody tr th {\n",
              "        vertical-align: top;\n",
              "    }\n",
              "\n",
              "    .dataframe thead th {\n",
              "        text-align: right;\n",
              "    }\n",
              "</style>\n",
              "<table border=\"1\" class=\"dataframe\">\n",
              "  <thead>\n",
              "    <tr style=\"text-align: right;\">\n",
              "      <th></th>\n",
              "      <th>Age</th>\n",
              "      <th>Sex</th>\n",
              "      <th>On_thyroxine</th>\n",
              "      <th>Query_on_thyroxine</th>\n",
              "      <th>On_antithyroid_medication</th>\n",
              "      <th>Sick</th>\n",
              "      <th>Pregnant</th>\n",
              "      <th>Thyroid_surgery</th>\n",
              "      <th>I131_treatment</th>\n",
              "      <th>Query_hypothyroid</th>\n",
              "      <th>Query_hyperthyroid</th>\n",
              "      <th>Lithium</th>\n",
              "      <th>Goitre</th>\n",
              "      <th>Tumor</th>\n",
              "      <th>Hypopituitary</th>\n",
              "      <th>Psych</th>\n",
              "      <th>TSH</th>\n",
              "      <th>T3</th>\n",
              "      <th>TT4</th>\n",
              "      <th>T4U</th>\n",
              "      <th>FTI</th>\n",
              "    </tr>\n",
              "  </thead>\n",
              "  <tbody>\n",
              "    <tr>\n",
              "      <th>0</th>\n",
              "      <td>0.73</td>\n",
              "      <td>0</td>\n",
              "      <td>1</td>\n",
              "      <td>0</td>\n",
              "      <td>0</td>\n",
              "      <td>0</td>\n",
              "      <td>0</td>\n",
              "      <td>0</td>\n",
              "      <td>1</td>\n",
              "      <td>0</td>\n",
              "      <td>0</td>\n",
              "      <td>0</td>\n",
              "      <td>0</td>\n",
              "      <td>0</td>\n",
              "      <td>0</td>\n",
              "      <td>0</td>\n",
              "      <td>0.00060</td>\n",
              "      <td>0.015</td>\n",
              "      <td>0.120</td>\n",
              "      <td>0.082</td>\n",
              "      <td>0.146</td>\n",
              "    </tr>\n",
              "    <tr>\n",
              "      <th>1</th>\n",
              "      <td>0.24</td>\n",
              "      <td>0</td>\n",
              "      <td>0</td>\n",
              "      <td>0</td>\n",
              "      <td>0</td>\n",
              "      <td>0</td>\n",
              "      <td>0</td>\n",
              "      <td>0</td>\n",
              "      <td>0</td>\n",
              "      <td>0</td>\n",
              "      <td>0</td>\n",
              "      <td>0</td>\n",
              "      <td>0</td>\n",
              "      <td>0</td>\n",
              "      <td>0</td>\n",
              "      <td>0</td>\n",
              "      <td>0.00025</td>\n",
              "      <td>0.030</td>\n",
              "      <td>0.143</td>\n",
              "      <td>0.133</td>\n",
              "      <td>0.108</td>\n",
              "    </tr>\n",
              "    <tr>\n",
              "      <th>2</th>\n",
              "      <td>0.47</td>\n",
              "      <td>0</td>\n",
              "      <td>0</td>\n",
              "      <td>0</td>\n",
              "      <td>0</td>\n",
              "      <td>0</td>\n",
              "      <td>0</td>\n",
              "      <td>0</td>\n",
              "      <td>0</td>\n",
              "      <td>0</td>\n",
              "      <td>0</td>\n",
              "      <td>0</td>\n",
              "      <td>0</td>\n",
              "      <td>0</td>\n",
              "      <td>0</td>\n",
              "      <td>0</td>\n",
              "      <td>0.00190</td>\n",
              "      <td>0.024</td>\n",
              "      <td>0.102</td>\n",
              "      <td>0.131</td>\n",
              "      <td>0.078</td>\n",
              "    </tr>\n",
              "    <tr>\n",
              "      <th>3</th>\n",
              "      <td>0.64</td>\n",
              "      <td>1</td>\n",
              "      <td>0</td>\n",
              "      <td>0</td>\n",
              "      <td>0</td>\n",
              "      <td>0</td>\n",
              "      <td>0</td>\n",
              "      <td>0</td>\n",
              "      <td>0</td>\n",
              "      <td>0</td>\n",
              "      <td>0</td>\n",
              "      <td>0</td>\n",
              "      <td>0</td>\n",
              "      <td>0</td>\n",
              "      <td>0</td>\n",
              "      <td>0</td>\n",
              "      <td>0.00090</td>\n",
              "      <td>0.017</td>\n",
              "      <td>0.077</td>\n",
              "      <td>0.090</td>\n",
              "      <td>0.085</td>\n",
              "    </tr>\n",
              "    <tr>\n",
              "      <th>4</th>\n",
              "      <td>0.23</td>\n",
              "      <td>0</td>\n",
              "      <td>0</td>\n",
              "      <td>0</td>\n",
              "      <td>0</td>\n",
              "      <td>0</td>\n",
              "      <td>0</td>\n",
              "      <td>0</td>\n",
              "      <td>0</td>\n",
              "      <td>0</td>\n",
              "      <td>0</td>\n",
              "      <td>0</td>\n",
              "      <td>0</td>\n",
              "      <td>0</td>\n",
              "      <td>0</td>\n",
              "      <td>0</td>\n",
              "      <td>0.00025</td>\n",
              "      <td>0.026</td>\n",
              "      <td>0.139</td>\n",
              "      <td>0.090</td>\n",
              "      <td>0.153</td>\n",
              "    </tr>\n",
              "  </tbody>\n",
              "</table>\n",
              "</div>"
            ],
            "text/plain": [
              "    Age   Sex   On_thyroxine   Query_on_thyroxine  ...     T3    TT4    T4U    FTI\n",
              "0  0.73     0              1                    0  ...  0.015  0.120  0.082  0.146\n",
              "1  0.24     0              0                    0  ...  0.030  0.143  0.133  0.108\n",
              "2  0.47     0              0                    0  ...  0.024  0.102  0.131  0.078\n",
              "3  0.64     1              0                    0  ...  0.017  0.077  0.090  0.085\n",
              "4  0.23     0              0                    0  ...  0.026  0.139  0.090  0.153\n",
              "\n",
              "[5 rows x 21 columns]"
            ]
          },
          "metadata": {
            "tags": []
          },
          "execution_count": 3
        }
      ]
    },
    {
      "cell_type": "code",
      "metadata": {
        "id": "YqSgI9Sr0yB7"
      },
      "source": [
        "y = dados[' Class']"
      ],
      "execution_count": 4,
      "outputs": []
    },
    {
      "cell_type": "code",
      "metadata": {
        "colab": {
          "base_uri": "https://localhost:8080/"
        },
        "id": "_36hCpm403Iw",
        "outputId": "74d5582b-929a-4fc0-ad63-74a9392aa644"
      },
      "source": [
        "y.head()"
      ],
      "execution_count": 5,
      "outputs": [
        {
          "output_type": "execute_result",
          "data": {
            "text/plain": [
              "0    3\n",
              "1    3\n",
              "2    3\n",
              "3    3\n",
              "4    3\n",
              "Name:  Class, dtype: int64"
            ]
          },
          "metadata": {
            "tags": []
          },
          "execution_count": 5
        }
      ]
    },
    {
      "cell_type": "code",
      "metadata": {
        "colab": {
          "base_uri": "https://localhost:8080/"
        },
        "id": "hmbRRSxDpOJw",
        "outputId": "7492e344-7453-4e8b-dc29-3e07dd329637"
      },
      "source": [
        "import numpy as np\n",
        "from sklearn.model_selection import train_test_split\n",
        "from sklearn.preprocessing import StandardScaler\n",
        "\n",
        "SEED = 5\n",
        "np.random.seed(SEED)\n",
        "raw_treino_x, raw_teste_x, treino_y, teste_y = train_test_split(x, y, test_size = 0.25, stratify = y)\n",
        "\n",
        "scaler = StandardScaler()\n",
        "treino_x = scaler.fit_transform(raw_treino_x)\n",
        "teste_x = scaler.fit_transform(raw_teste_x)\n",
        "\n",
        "print(f'Treinaremos com {len(treino_x)} elementos e testaremos com {len(teste_x)} elementos')"
      ],
      "execution_count": 6,
      "outputs": [
        {
          "output_type": "stream",
          "text": [
            "Treinaremos com 5400 elementos e testaremos com 1800 elementos\n"
          ],
          "name": "stdout"
        }
      ]
    },
    {
      "cell_type": "code",
      "metadata": {
        "id": "_NK-g4ebpb3B"
      },
      "source": [
        "from keras.models import Sequential\n",
        "from keras.layers import Dense\n",
        "from keras.utils import to_categorical\n",
        "\n",
        "modelo = Sequential()"
      ],
      "execution_count": 7,
      "outputs": []
    },
    {
      "cell_type": "code",
      "metadata": {
        "id": "XipcLReFph88"
      },
      "source": [
        "modelo.add(Dense(activation='relu', input_dim=len(x.columns), units=500, kernel_initializer='uniform'))\n",
        "modelo.add(Dense(activation='relu', units=100, kernel_initializer='uniform'))\n",
        "modelo.add(Dense(activation='relu', units=50, kernel_initializer='uniform'))\n",
        "modelo.add(Dense(activation='softmax', units=4, kernel_initializer='uniform'))"
      ],
      "execution_count": 8,
      "outputs": []
    },
    {
      "cell_type": "code",
      "metadata": {
        "id": "LZ7O1HUMpkGk"
      },
      "source": [
        "modelo.compile(optimizer='adam', loss='categorical_crossentropy', metrics=['accuracy'])"
      ],
      "execution_count": 9,
      "outputs": []
    },
    {
      "cell_type": "code",
      "metadata": {
        "id": "Z0O_WOcpjK0_"
      },
      "source": [
        "modelo.save('mlp_model_exemple.h5')"
      ],
      "execution_count": 10,
      "outputs": []
    },
    {
      "cell_type": "code",
      "metadata": {
        "colab": {
          "base_uri": "https://localhost:8080/"
        },
        "id": "fwa4ToQyKckn",
        "outputId": "4b741978-7dc7-4d91-871e-6b8fe3176a14"
      },
      "source": [
        "from sklearn.dummy import DummyClassifier\n",
        "from sklearn.metrics import accuracy_score\n",
        "\n",
        "dummy = DummyClassifier()\n",
        "dummy.fit(treino_x, treino_y)\n",
        "previsoes_dummy = dummy.predict(teste_x)\n",
        "acuracia = accuracy_score(teste_y, previsoes_dummy)\n",
        "print(f'Taxa de acerto para o dummy classifier ou baseline foi {acuracia * 100:.2f}%')"
      ],
      "execution_count": 11,
      "outputs": [
        {
          "output_type": "stream",
          "text": [
            "Taxa de acerto para o dummy classifier ou baseline foi 85.89%\n"
          ],
          "name": "stdout"
        },
        {
          "output_type": "stream",
          "text": [
            "/usr/local/lib/python3.7/dist-packages/sklearn/dummy.py:132: FutureWarning: The default value of strategy will change from stratified to prior in 0.24.\n",
            "  \"stratified to prior in 0.24.\", FutureWarning)\n"
          ],
          "name": "stderr"
        }
      ]
    },
    {
      "cell_type": "code",
      "metadata": {
        "colab": {
          "base_uri": "https://localhost:8080/"
        },
        "id": "0RkEO5V7pVa_",
        "outputId": "21b74e9c-e442-4940-bc19-f7ee4ef4b6b8"
      },
      "source": [
        "history = modelo.fit(treino_x, to_categorical(treino_y), batch_size=54, epochs=50, validation_data=(teste_x, to_categorical(teste_y)))\n",
        "previsoes = modelo.predict(teste_x)"
      ],
      "execution_count": 12,
      "outputs": [
        {
          "output_type": "stream",
          "text": [
            "Epoch 1/50\n",
            "100/100 [==============================] - 1s 9ms/step - loss: 0.7981 - accuracy: 0.8799 - val_loss: 0.2047 - val_accuracy: 0.9261\n",
            "Epoch 2/50\n",
            "100/100 [==============================] - 0s 4ms/step - loss: 0.1902 - accuracy: 0.9291 - val_loss: 0.1571 - val_accuracy: 0.9428\n",
            "Epoch 3/50\n",
            "100/100 [==============================] - 0s 3ms/step - loss: 0.1316 - accuracy: 0.9449 - val_loss: 0.1135 - val_accuracy: 0.9539\n",
            "Epoch 4/50\n",
            "100/100 [==============================] - 0s 4ms/step - loss: 0.0832 - accuracy: 0.9695 - val_loss: 0.1008 - val_accuracy: 0.9689\n",
            "Epoch 5/50\n",
            "100/100 [==============================] - 0s 4ms/step - loss: 0.0685 - accuracy: 0.9763 - val_loss: 0.0947 - val_accuracy: 0.9744\n",
            "Epoch 6/50\n",
            "100/100 [==============================] - 0s 3ms/step - loss: 0.0518 - accuracy: 0.9834 - val_loss: 0.0764 - val_accuracy: 0.9756\n",
            "Epoch 7/50\n",
            "100/100 [==============================] - 0s 4ms/step - loss: 0.0437 - accuracy: 0.9840 - val_loss: 0.0905 - val_accuracy: 0.9733\n",
            "Epoch 8/50\n",
            "100/100 [==============================] - 0s 4ms/step - loss: 0.0320 - accuracy: 0.9884 - val_loss: 0.0786 - val_accuracy: 0.9772\n",
            "Epoch 9/50\n",
            "100/100 [==============================] - 0s 4ms/step - loss: 0.0302 - accuracy: 0.9909 - val_loss: 0.0747 - val_accuracy: 0.9789\n",
            "Epoch 10/50\n",
            "100/100 [==============================] - 0s 4ms/step - loss: 0.0259 - accuracy: 0.9916 - val_loss: 0.0702 - val_accuracy: 0.9794\n",
            "Epoch 11/50\n",
            "100/100 [==============================] - 0s 4ms/step - loss: 0.0197 - accuracy: 0.9942 - val_loss: 0.0798 - val_accuracy: 0.9794\n",
            "Epoch 12/50\n",
            "100/100 [==============================] - 0s 4ms/step - loss: 0.0193 - accuracy: 0.9927 - val_loss: 0.0765 - val_accuracy: 0.9794\n",
            "Epoch 13/50\n",
            "100/100 [==============================] - 0s 3ms/step - loss: 0.0142 - accuracy: 0.9949 - val_loss: 0.0742 - val_accuracy: 0.9789\n",
            "Epoch 14/50\n",
            "100/100 [==============================] - 0s 3ms/step - loss: 0.0185 - accuracy: 0.9934 - val_loss: 0.0712 - val_accuracy: 0.9767\n",
            "Epoch 15/50\n",
            "100/100 [==============================] - 0s 4ms/step - loss: 0.0191 - accuracy: 0.9930 - val_loss: 0.0686 - val_accuracy: 0.9783\n",
            "Epoch 16/50\n",
            "100/100 [==============================] - 0s 4ms/step - loss: 0.0147 - accuracy: 0.9935 - val_loss: 0.0797 - val_accuracy: 0.9783\n",
            "Epoch 17/50\n",
            "100/100 [==============================] - 0s 4ms/step - loss: 0.0118 - accuracy: 0.9975 - val_loss: 0.0646 - val_accuracy: 0.9806\n",
            "Epoch 18/50\n",
            "100/100 [==============================] - 0s 4ms/step - loss: 0.0190 - accuracy: 0.9921 - val_loss: 0.0668 - val_accuracy: 0.9811\n",
            "Epoch 19/50\n",
            "100/100 [==============================] - 0s 4ms/step - loss: 0.0167 - accuracy: 0.9925 - val_loss: 0.0999 - val_accuracy: 0.9778\n",
            "Epoch 20/50\n",
            "100/100 [==============================] - 0s 3ms/step - loss: 0.0172 - accuracy: 0.9925 - val_loss: 0.0709 - val_accuracy: 0.9811\n",
            "Epoch 21/50\n",
            "100/100 [==============================] - 0s 4ms/step - loss: 0.0111 - accuracy: 0.9966 - val_loss: 0.0859 - val_accuracy: 0.9783\n",
            "Epoch 22/50\n",
            "100/100 [==============================] - 0s 3ms/step - loss: 0.0083 - accuracy: 0.9981 - val_loss: 0.1196 - val_accuracy: 0.9756\n",
            "Epoch 23/50\n",
            "100/100 [==============================] - 0s 4ms/step - loss: 0.0107 - accuracy: 0.9968 - val_loss: 0.0864 - val_accuracy: 0.9794\n",
            "Epoch 24/50\n",
            "100/100 [==============================] - 0s 4ms/step - loss: 0.0069 - accuracy: 0.9970 - val_loss: 0.0859 - val_accuracy: 0.9783\n",
            "Epoch 25/50\n",
            "100/100 [==============================] - 0s 4ms/step - loss: 0.0103 - accuracy: 0.9965 - val_loss: 0.1033 - val_accuracy: 0.9744\n",
            "Epoch 26/50\n",
            "100/100 [==============================] - 0s 4ms/step - loss: 0.0105 - accuracy: 0.9962 - val_loss: 0.0800 - val_accuracy: 0.9822\n",
            "Epoch 27/50\n",
            "100/100 [==============================] - 0s 4ms/step - loss: 0.0155 - accuracy: 0.9942 - val_loss: 0.0973 - val_accuracy: 0.9800\n",
            "Epoch 28/50\n",
            "100/100 [==============================] - 0s 4ms/step - loss: 0.0114 - accuracy: 0.9961 - val_loss: 0.0846 - val_accuracy: 0.9789\n",
            "Epoch 29/50\n",
            "100/100 [==============================] - 0s 4ms/step - loss: 0.0090 - accuracy: 0.9966 - val_loss: 0.0881 - val_accuracy: 0.9811\n",
            "Epoch 30/50\n",
            "100/100 [==============================] - 0s 4ms/step - loss: 0.0099 - accuracy: 0.9955 - val_loss: 0.0960 - val_accuracy: 0.9772\n",
            "Epoch 31/50\n",
            "100/100 [==============================] - 0s 4ms/step - loss: 0.0077 - accuracy: 0.9975 - val_loss: 0.0958 - val_accuracy: 0.9789\n",
            "Epoch 32/50\n",
            "100/100 [==============================] - 0s 4ms/step - loss: 0.0094 - accuracy: 0.9977 - val_loss: 0.1040 - val_accuracy: 0.9783\n",
            "Epoch 33/50\n",
            "100/100 [==============================] - 0s 4ms/step - loss: 0.0061 - accuracy: 0.9974 - val_loss: 0.1010 - val_accuracy: 0.9789\n",
            "Epoch 34/50\n",
            "100/100 [==============================] - 0s 4ms/step - loss: 0.0038 - accuracy: 0.9992 - val_loss: 0.0977 - val_accuracy: 0.9806\n",
            "Epoch 35/50\n",
            "100/100 [==============================] - 0s 3ms/step - loss: 0.0073 - accuracy: 0.9977 - val_loss: 0.0934 - val_accuracy: 0.9833\n",
            "Epoch 36/50\n",
            "100/100 [==============================] - 0s 3ms/step - loss: 0.0134 - accuracy: 0.9966 - val_loss: 0.0965 - val_accuracy: 0.9806\n",
            "Epoch 37/50\n",
            "100/100 [==============================] - 0s 4ms/step - loss: 0.0053 - accuracy: 0.9984 - val_loss: 0.1266 - val_accuracy: 0.9778\n",
            "Epoch 38/50\n",
            "100/100 [==============================] - 0s 3ms/step - loss: 0.0058 - accuracy: 0.9972 - val_loss: 0.1060 - val_accuracy: 0.9800\n",
            "Epoch 39/50\n",
            "100/100 [==============================] - 0s 4ms/step - loss: 0.0054 - accuracy: 0.9978 - val_loss: 0.1470 - val_accuracy: 0.9772\n",
            "Epoch 40/50\n",
            "100/100 [==============================] - 0s 4ms/step - loss: 0.0067 - accuracy: 0.9976 - val_loss: 0.1284 - val_accuracy: 0.9794\n",
            "Epoch 41/50\n",
            "100/100 [==============================] - 0s 4ms/step - loss: 0.0099 - accuracy: 0.9973 - val_loss: 0.1185 - val_accuracy: 0.9789\n",
            "Epoch 42/50\n",
            "100/100 [==============================] - 0s 3ms/step - loss: 0.0061 - accuracy: 0.9972 - val_loss: 0.1266 - val_accuracy: 0.9794\n",
            "Epoch 43/50\n",
            "100/100 [==============================] - 0s 4ms/step - loss: 0.0039 - accuracy: 0.9986 - val_loss: 0.1328 - val_accuracy: 0.9783\n",
            "Epoch 44/50\n",
            "100/100 [==============================] - 0s 4ms/step - loss: 0.0056 - accuracy: 0.9985 - val_loss: 0.1164 - val_accuracy: 0.9822\n",
            "Epoch 45/50\n",
            "100/100 [==============================] - 0s 4ms/step - loss: 0.0092 - accuracy: 0.9981 - val_loss: 0.1205 - val_accuracy: 0.9789\n",
            "Epoch 46/50\n",
            "100/100 [==============================] - 0s 4ms/step - loss: 0.0047 - accuracy: 0.9983 - val_loss: 0.1260 - val_accuracy: 0.9783\n",
            "Epoch 47/50\n",
            "100/100 [==============================] - 0s 3ms/step - loss: 0.0099 - accuracy: 0.9969 - val_loss: 0.1098 - val_accuracy: 0.9811\n",
            "Epoch 48/50\n",
            "100/100 [==============================] - 0s 4ms/step - loss: 0.0023 - accuracy: 0.9994 - val_loss: 0.1240 - val_accuracy: 0.9806\n",
            "Epoch 49/50\n",
            "100/100 [==============================] - 0s 4ms/step - loss: 0.0056 - accuracy: 0.9983 - val_loss: 0.1122 - val_accuracy: 0.9794\n",
            "Epoch 50/50\n",
            "100/100 [==============================] - 0s 4ms/step - loss: 0.0016 - accuracy: 0.9998 - val_loss: 0.1281 - val_accuracy: 0.9806\n"
          ],
          "name": "stdout"
        }
      ]
    },
    {
      "cell_type": "code",
      "metadata": {
        "colab": {
          "base_uri": "https://localhost:8080/",
          "height": 295
        },
        "id": "a_zNj4Y_q05u",
        "outputId": "d09ef57f-4422-4fd8-9cb5-9696d657d81d"
      },
      "source": [
        "import matplotlib.pyplot as plt\n",
        "loss = history.history['loss']\n",
        "val_loss = history.history['val_loss']\n",
        "epochs = range(1, len(loss) + 1)\n",
        "plt.plot(epochs, loss, color='blue', label='Training loss')\n",
        "plt.plot(epochs, val_loss, color='orange', label='Validation loss')\n",
        "plt.title('Loss de Treinamento e Validação')\n",
        "plt.xlabel('Epochs')\n",
        "plt.ylabel('Loss')\n",
        "plt.legend()\n",
        "plt.savefig('mlp_loss_vs_epochs')\n",
        "plt.show()"
      ],
      "execution_count": 13,
      "outputs": [
        {
          "output_type": "display_data",
          "data": {
            "image/png": "[encoded data removed]",
            "text/plain": [
              "<Figure size 432x288 with 1 Axes>"
            ]
          },
          "metadata": {
            "tags": [],
            "needs_background": "light"
          }
        }
      ]
    },
    {
      "cell_type": "code",
      "metadata": {
        "colab": {
          "base_uri": "https://localhost:8080/",
          "height": 295
        },
        "id": "5eTvmaY5tL0t",
        "outputId": "79b99c97-adbd-4bac-f264-7091bcd06e80"
      },
      "source": [
        "accuracy = history.history['accuracy']\n",
        "val_accuracy = history.history['val_accuracy']\n",
        "plt.plot(epochs, accuracy, color='blue', label='Training accuracy')\n",
        "plt.plot(epochs, val_accuracy, color='orange', label='Validation accuracy')\n",
        "plt.title('Acurácia de Treinamento e Validação')\n",
        "plt.xlabel('Epochs')\n",
        "plt.ylabel('Accuracy')\n",
        "plt.legend()\n",
        "plt.savefig('mlp_accuracy_vs_epochs')\n",
        "plt.show()"
      ],
      "execution_count": 14,
      "outputs": [
        {
          "output_type": "display_data",
          "data": {
            "image/png": "[encoded data removed]",
            "text/plain": [
              "<Figure size 432x288 with 1 Axes>"
            ]
          },
          "metadata": {
            "tags": [],
            "needs_background": "light"
          }
        }
      ]
    },
    {
      "cell_type": "code",
      "metadata": {
        "colab": {
          "base_uri": "https://localhost:8080/"
        },
        "id": "DiFp6AKmrvCq",
        "outputId": "8a676c8a-dc1d-4454-a30b-c7ba52133d1d"
      },
      "source": [
        "from sklearn.metrics import classification_report\n",
        "\n",
        "# normal (1) or suffers from hyperthyroidism (2) or hypothyroidism (3)\n",
        "\n",
        "previsoes_argmax = np.argmax(previsoes, axis=1)\n",
        "print(classification_report(teste_y, previsoes_argmax, target_names=[\"normal\", 'hyperthyroidism', 'hypothyroidism']))"
      ],
      "execution_count": 15,
      "outputs": [
        {
          "output_type": "stream",
          "text": [
            "                 precision    recall  f1-score   support\n",
            "\n",
            "         normal       0.83      0.73      0.78        41\n",
            "hyperthyroidism       0.88      0.86      0.87        92\n",
            " hypothyroidism       0.99      0.99      0.99      1667\n",
            "\n",
            "       accuracy                           0.98      1800\n",
            "      macro avg       0.90      0.86      0.88      1800\n",
            "   weighted avg       0.98      0.98      0.98      1800\n",
            "\n"
          ],
          "name": "stdout"
        }
      ]
    },
    {
      "cell_type": "code",
      "metadata": {
        "colab": {
          "base_uri": "https://localhost:8080/"
        },
        "id": "dwcy-SrKqrY-",
        "outputId": "87bfbdad-3333-4457-8793-321d553d0310"
      },
      "source": [
        "from sklearn.metrics import accuracy_score\n",
        "\n",
        "\n",
        "previsoes_argmax = np.argmax(previsoes, axis=1)\n",
        "acuracia = accuracy_score(teste_y, previsoes_argmax) * 100\n",
        "print(f'A acurácia foi {acuracia:.2f}%')"
      ],
      "execution_count": 16,
      "outputs": [
        {
          "output_type": "stream",
          "text": [
            "A acurácia foi 98.06%\n"
          ],
          "name": "stdout"
        }
      ]
    },
    {
      "cell_type": "code",
      "metadata": {
        "colab": {
          "base_uri": "https://localhost:8080/",
          "height": 298
        },
        "id": "gjSUMLPC0QcN",
        "outputId": "d5921a52-f2d1-4801-9456-f9959592e1d3"
      },
      "source": [
        "from sklearn.metrics import confusion_matrix\n",
        "import seaborn as sns\n",
        "\n",
        "previsoes_argmax = np.argmax(previsoes, axis=1)\n",
        "matriz_confusao = confusion_matrix(teste_y, previsoes_argmax)\n",
        "print('Matriz de confusão')\n",
        "sns.heatmap(matriz_confusao, annot=True)"
      ],
      "execution_count": 17,
      "outputs": [
        {
          "output_type": "stream",
          "text": [
            "Matriz de confusão\n"
          ],
          "name": "stdout"
        },
        {
          "output_type": "execute_result",
          "data": {
            "text/plain": [
              "<matplotlib.axes._subplots.AxesSubplot at 0x7f6725224190>"
            ]
          },
          "metadata": {
            "tags": []
          },
          "execution_count": 17
        },
        {
          "output_type": "display_data",
          "data": {
            "image/png": "[encoded data removed]",
            "text/plain": [
              "<Figure size 432x288 with 2 Axes>"
            ]
          },
          "metadata": {
            "tags": [],
            "needs_background": "light"
          }
        }
      ]
    },
    {
      "cell_type": "code",
      "metadata": {
        "colab": {
          "base_uri": "https://localhost:8080/"
        },
        "id": "aQLz5GWp42w-",
        "outputId": "f5d63c30-277c-4b84-fdde-2895b043325c"
      },
      "source": [
        "acuracia = ((matriz_confusao[0,0] + matriz_confusao[1,1] + matriz_confusao[2, 2]) / len(teste_y)) * 100\n",
        "print(f'A acurácia foi {acuracia:.2f}%')"
      ],
      "execution_count": 18,
      "outputs": [
        {
          "output_type": "stream",
          "text": [
            "A acurácia foi 98.06%\n"
          ],
          "name": "stdout"
        }
      ]
    }
  ]
}